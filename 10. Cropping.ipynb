{
 "cells": [
  {
   "cell_type": "raw",
   "id": "223e1b77-b47a-4caa-9505-de7e3d0a03ca",
   "metadata": {},
   "source": [
    "Cropping"
   ]
  },
  {
   "cell_type": "code",
   "execution_count": 1,
   "id": "462973c0-e75a-4c48-b338-d1f4fd8c14e0",
   "metadata": {
    "tags": []
   },
   "outputs": [],
   "source": [
    "import cv2\n",
    "import numpy as np\n",
    "\n",
    "image = cv2.imread('images/input.jpg')\n",
    "height, width = image.shape[:2]\n",
    "\n",
    "start_row, start_col = int(height * .25), int(width * .25)\n",
    "\n",
    "end_row, end_col = int(height * .75), int(width * .75)\n",
    "# Simply use indexing to crop out the rectangle we desire.\n",
    "cropped_image = image[start_row:end_row,start_col:end_col]\n",
    "\n",
    "cv2.imshow(\"Original image\", image)\n",
    "cv2.waitKey()\n",
    "cv2.imshow(\"Cropped image\", cropped_image)\n",
    "cv2.waitKey()\n",
    "cv2.destroyAllWindows()"
   ]
  }
 ],
 "metadata": {
  "kernelspec": {
   "display_name": "Python 3 (ipykernel)",
   "language": "python",
   "name": "python3"
  },
  "language_info": {
   "codemirror_mode": {
    "name": "ipython",
    "version": 3
   },
   "file_extension": ".py",
   "mimetype": "text/x-python",
   "name": "python",
   "nbconvert_exporter": "python",
   "pygments_lexer": "ipython3",
   "version": "3.10.8"
  }
 },
 "nbformat": 4,
 "nbformat_minor": 5
}
