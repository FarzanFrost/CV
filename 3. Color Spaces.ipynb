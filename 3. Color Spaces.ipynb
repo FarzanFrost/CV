{
 "cells": [
  {
   "cell_type": "code",
   "execution_count": 1,
   "id": "286489f6-77b1-463a-8b21-1159b7e11d99",
   "metadata": {
    "tags": []
   },
   "outputs": [],
   "source": [
    "import cv2\n",
    "import numpy as np\n",
    "\n",
    "image = cv2.imread('./Images/input.jpg')"
   ]
  },
  {
   "cell_type": "code",
   "execution_count": 2,
   "id": "bf59355b-3efb-48f5-84b5-893af4e30461",
   "metadata": {
    "tags": []
   },
   "outputs": [
    {
     "name": "stdout",
     "output_type": "stream",
     "text": [
      "12 18 31\n"
     ]
    }
   ],
   "source": [
    "# BGR values of the first 0,0 pixel.\n",
    "B, G, R = image[0,0]\n",
    "print(B,G,R)"
   ]
  },
  {
   "cell_type": "raw",
   "id": "de1e46db-ec03-4b7c-8c35-51e33580bfed",
   "metadata": {},
   "source": [
    "Effect of GrayScaling of Images"
   ]
  },
  {
   "cell_type": "code",
   "execution_count": 3,
   "id": "a58ea839-0e16-4210-b0f5-54a2b0638c3c",
   "metadata": {
    "tags": []
   },
   "outputs": [
    {
     "name": "stdout",
     "output_type": "stream",
     "text": [
      "(415, 622)\n",
      "21\n"
     ]
    }
   ],
   "source": [
    "grayImage = cv2.cvtColor(image, cv2.COLOR_BGR2GRAY)\n",
    "# Now the grayImage is only 2 dimension.\n",
    "print(grayImage.shape)\n",
    "print(grayImage[0,0])"
   ]
  },
  {
   "cell_type": "markdown",
   "id": "777a0569-16a7-43cb-a4e1-59e20f9726c0",
   "metadata": {},
   "source": [
    "HSV\n"
   ]
  },
  {
   "cell_type": "code",
   "execution_count": 4,
   "id": "4d89a0d3-b7f6-4081-a9b6-023ce0790648",
   "metadata": {
    "tags": []
   },
   "outputs": [],
   "source": [
    "hsvImage = cv2.cvtColor(image, cv2.COLOR_BGR2HSV)\n",
    "\n",
    "cv2.imshow('HSV image', hsvImage)\n",
    "cv2.waitKey()\n",
    "cv2.imshow('Hue channel', hsvImage[:, :, 0])\n",
    "cv2.waitKey()\n",
    "cv2.imshow('Saturation channel', hsvImage[:, :, 1])\n",
    "cv2.waitKey()\n",
    "cv2.imshow('Value channel', hsvImage[:, :, 2])\n",
    "cv2.waitKey()\n",
    "cv2.destroyAllWindows()"
   ]
  },
  {
   "cell_type": "markdown",
   "id": "5222c693-5d36-46b3-98f4-3108d65807bc",
   "metadata": {},
   "source": [
    "RGB\n"
   ]
  },
  {
   "cell_type": "code",
   "execution_count": 5,
   "id": "ecfb74f0-098e-450d-b442-98c9a02103cb",
   "metadata": {
    "tags": []
   },
   "outputs": [
    {
     "name": "stdout",
     "output_type": "stream",
     "text": [
      "(415, 622)\n"
     ]
    }
   ],
   "source": [
    "# Split the image into each color index.\n",
    "B, G, R = cv2.split(image)\n",
    "print(B.shape)\n",
    "cv2.imshow('Red', R)\n",
    "cv2.waitKey()\n",
    "cv2.imshow('Green', G)\n",
    "cv2.waitKey()\n",
    "cv2.imshow('Blue', B)\n",
    "cv2.waitKey()\n",
    "cv2.destroyAllWindows()\n",
    "\n",
    "# Remake the original image by merging all three color values.\n",
    "merged = cv2.merge([B, G, R])\n",
    "cv2.imshow('Merged', merged)\n",
    "cv2.waitKey()\n",
    "\n",
    "# Amplify a color spectral by adding a constant to all pixels.\n",
    "mergedBlue = cv2.merge([B + 100, G, R])\n",
    "cv2.imshow('Merged with blue amplified', mergedBlue)\n",
    "cv2.waitKey()\n",
    "cv2.destroyAllWindows()"
   ]
  },
  {
   "cell_type": "code",
   "execution_count": 6,
   "id": "2752e9b3-a216-42c9-a723-e665a90d06bd",
   "metadata": {
    "tags": []
   },
   "outputs": [],
   "source": [
    "# Creating a matrix of zeros with dimensions of the image (h,w)\n",
    "zeros = np.zeros(image.shape[:2]).astype(\"uint8\")\n",
    "\n",
    "cv2.imshow('Red', cv2.merge([zeros, zeros, R]))\n",
    "cv2.waitKey()\n",
    "cv2.imshow('Green', cv2.merge([zeros, G, zeros]))\n",
    "cv2.waitKey()\n",
    "cv2.imshow('Blue', cv2.merge([B, zeros, zeros]))\n",
    "cv2.waitKey()\n",
    "cv2.destroyAllWindows()"
   ]
  },
  {
   "cell_type": "code",
   "execution_count": null,
   "id": "cf56565a-6bfc-435b-9a75-7f7d5faa62fb",
   "metadata": {},
   "outputs": [],
   "source": []
  }
 ],
 "metadata": {
  "kernelspec": {
   "display_name": "Python 3 (ipykernel)",
   "language": "python",
   "name": "python3"
  },
  "language_info": {
   "codemirror_mode": {
    "name": "ipython",
    "version": 3
   },
   "file_extension": ".py",
   "mimetype": "text/x-python",
   "name": "python",
   "nbconvert_exporter": "python",
   "pygments_lexer": "ipython3",
   "version": "3.10.8"
  }
 },
 "nbformat": 4,
 "nbformat_minor": 5
}
