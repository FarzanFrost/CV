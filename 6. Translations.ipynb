{
 "cells": [
  {
   "cell_type": "markdown",
   "id": "6ae25a07-f6f1-407d-b1e7-64c6185efcab",
   "metadata": {},
   "source": [
    "Affine transform\n"
   ]
  },
  {
   "cell_type": "code",
   "execution_count": 1,
   "id": "8ab5e0e9-378a-40d5-9ef1-97366755fcf6",
   "metadata": {
    "tags": []
   },
   "outputs": [],
   "source": [
    "import cv2\n",
    "import numpy as np\n",
    "\n",
    "image = cv2.imread('Images/input.jpg')\n",
    "\n",
    "height, width = image.shape[:2]\n",
    "\n",
    "quarterHeight, quarterWidth = height/4, width/4\n",
    "\n",
    "# Transformation matrix\n",
    "#     | 1 0 Tx |\n",
    "# T = | 0 1 Ty |\n",
    "\n",
    "T = np.float32([[1, 0, quarterWidth], [0, 1, quarterHeight]])\n",
    "\n",
    "# We use warpAffine to transform the image using the matrix,\n",
    "ImageTranslated = cv2.warpAffine(image, T, (width, height))\n",
    "cv2.imshow('Translation', ImageTranslated)\n",
    "cv2.waitKey()\n",
    "cv2.destroyAllWindows()"
   ]
  }
 ],
 "metadata": {
  "kernelspec": {
   "display_name": "Python 3 (ipykernel)",
   "language": "python",
   "name": "python3"
  },
  "language_info": {
   "codemirror_mode": {
    "name": "ipython",
    "version": 3
   },
   "file_extension": ".py",
   "mimetype": "text/x-python",
   "name": "python",
   "nbconvert_exporter": "python",
   "pygments_lexer": "ipython3",
   "version": "3.10.8"
  }
 },
 "nbformat": 4,
 "nbformat_minor": 5
}
