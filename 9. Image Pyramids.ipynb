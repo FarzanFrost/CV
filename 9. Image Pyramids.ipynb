{
 "cells": [
  {
   "cell_type": "raw",
   "id": "97c67a00-dc56-4b4d-89a1-6b624000a7ad",
   "metadata": {},
   "source": [
    "Image Pyramids\n",
    "\n",
    "Scaling images"
   ]
  },
  {
   "cell_type": "code",
   "execution_count": 1,
   "id": "419023a8-8a13-4c66-929b-f0f77433ffbe",
   "metadata": {
    "tags": []
   },
   "outputs": [],
   "source": [
    "import cv2\n",
    "\n",
    "image = cv2.imread('Images/input.jpg')\n",
    "\n",
    "smaller = cv2.pyrDown(image)\n",
    "larger = cv2.pyrUp(smaller)\n",
    "\n",
    "cv2.imshow('Original',image)\n",
    "cv2.imshow('Smaller', smaller)\n",
    "cv2.imshow('Larger', larger)\n",
    "cv2.waitKey()\n",
    "cv2.destroyAllWindows()"
   ]
  }
 ],
 "metadata": {
  "kernelspec": {
   "display_name": "Python 3 (ipykernel)",
   "language": "python",
   "name": "python3"
  },
  "language_info": {
   "codemirror_mode": {
    "name": "ipython",
    "version": 3
   },
   "file_extension": ".py",
   "mimetype": "text/x-python",
   "name": "python",
   "nbconvert_exporter": "python",
   "pygments_lexer": "ipython3",
   "version": "3.10.8"
  }
 },
 "nbformat": 4,
 "nbformat_minor": 5
}
