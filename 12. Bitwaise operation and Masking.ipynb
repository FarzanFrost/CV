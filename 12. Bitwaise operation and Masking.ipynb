{
 "cells": [
  {
   "cell_type": "raw",
   "id": "2693111d-cd7b-4376-9a02-87af12aa9a9f",
   "metadata": {},
   "source": [
    "Bitwise operations and Masking"
   ]
  },
  {
   "cell_type": "code",
   "execution_count": 1,
   "id": "1c986442-9be5-4d1f-8f2b-3bce65ac1f5f",
   "metadata": {
    "tags": []
   },
   "outputs": [],
   "source": [
    "import cv2\n",
    "import numpy as np\n",
    "\n",
    "# If we are doing a colored image, we'd use.\n",
    "# rectangle = np.zeros((300,300,3)).astype(\"uint8\").\n",
    "\n",
    "square = np.zeros((300,300)).astype(\"uint8\")\n",
    "cv2.rectangle(square, (50,50), (250,250), 255, -2)\n",
    "cv2.imshow('Square', square)\n",
    "cv2.waitKey()\n",
    "\n",
    "ellipse = np.zeros((300,300)).astype(\"uint8\")\n",
    "cv2.ellipse(ellipse, (150,150), (150,150), 30 , 0, 180, 255, -1)\n",
    "cv2.imshow('Ellipse', ellipse)\n",
    "cv2.waitKey()\n",
    "cv2.destroyAllWindows()"
   ]
  },
  {
   "cell_type": "code",
   "execution_count": 2,
   "id": "2abc3826-d2c7-485c-97f3-7768005722f6",
   "metadata": {
    "tags": []
   },
   "outputs": [],
   "source": [
    "# For bitwise operations to happen, both images should be of same size.\n",
    "\n",
    "And = cv2.bitwise_and(square, ellipse)\n",
    "cv2.imshow(\"AND\", And)\n",
    "cv2.waitKey()\n",
    "\n",
    "Or = cv2.bitwise_or(square, ellipse)\n",
    "cv2.imshow(\"OR\", Or)\n",
    "cv2.waitKey()\n",
    "\n",
    "Xor = cv2.bitwise_xor(square, ellipse)\n",
    "cv2.imshow(\"XOR\", Xor)\n",
    "cv2.waitKey()\n",
    "\n",
    "Not = cv2.bitwise_not(square)\n",
    "cv2.imshow(\"NOT square\", Not)\n",
    "cv2.waitKey()\n",
    "\n",
    "cv2.destroyAllWindows()"
   ]
  }
 ],
 "metadata": {
  "kernelspec": {
   "display_name": "Python 3 (ipykernel)",
   "language": "python",
   "name": "python3"
  },
  "language_info": {
   "codemirror_mode": {
    "name": "ipython",
    "version": 3
   },
   "file_extension": ".py",
   "mimetype": "text/x-python",
   "name": "python",
   "nbconvert_exporter": "python",
   "pygments_lexer": "ipython3",
   "version": "3.10.8"
  }
 },
 "nbformat": 4,
 "nbformat_minor": 5
}
