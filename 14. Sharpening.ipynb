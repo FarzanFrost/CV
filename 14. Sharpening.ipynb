{
 "cells": [
  {
   "cell_type": "raw",
   "id": "188abcbe-a996-436e-a7ff-5251b7dbbf3a",
   "metadata": {},
   "source": [
    "Sharpening is the opposite of blurring, it strengthens or emphasizing edges in an image"
   ]
  },
  {
   "cell_type": "code",
   "execution_count": 2,
   "id": "02f7302d-1840-418c-8917-234c77a18e4e",
   "metadata": {
    "tags": []
   },
   "outputs": [],
   "source": [
    "import cv2\n",
    "import numpy as np\n",
    "\n",
    "image = cv2.imread('Images/input.jpg')\n",
    "cv2.imshow('Original', image)\n",
    "\n",
    "# The values in the kernel sums to 1.\n",
    "kernel_sharpening = np.array([[-1,-1,-1],\n",
    "                              [-1,9,-1],\n",
    "                              [-1,-1,-1]])\n",
    "# Applying different kernels to the input image\n",
    "sharpened = cv2.filter2D(image, -1, kernel_sharpening)\n",
    "\n",
    "cv2.imshow('Image sharpening', sharpened)\n",
    "cv2.waitKey()\n",
    "cv2.destroyAllWindows()"
   ]
  }
 ],
 "metadata": {
  "kernelspec": {
   "display_name": "Python 3 (ipykernel)",
   "language": "python",
   "name": "python3"
  },
  "language_info": {
   "codemirror_mode": {
    "name": "ipython",
    "version": 3
   },
   "file_extension": ".py",
   "mimetype": "text/x-python",
   "name": "python",
   "nbconvert_exporter": "python",
   "pygments_lexer": "ipython3",
   "version": "3.10.8"
  }
 },
 "nbformat": 4,
 "nbformat_minor": 5
}
