{
 "cells": [
  {
   "cell_type": "raw",
   "id": "098013ce-2995-4518-b977-cf7e2f4aa473",
   "metadata": {},
   "source": [
    "Contour = continuous lines or curves that bound or cover the full boundary of an object in an image. \n",
    "And are important in object detection, and shape analysis"
   ]
  },
  {
   "cell_type": "code",
   "execution_count": 1,
   "id": "b9ff85c1-a16c-469c-8982-9babab61b6ca",
   "metadata": {
    "tags": []
   },
   "outputs": [
    {
     "name": "stdout",
     "output_type": "stream",
     "text": [
      "Number of Contours found = 3\n"
     ]
    }
   ],
   "source": [
    "import cv2\n",
    "import numpy as np\n",
    "\n",
    "image = cv2.imread('Images/shapes_donut.jpg')\n",
    "cv2.imshow('Input Image',image)\n",
    "cv2.waitKey()\n",
    "\n",
    "gray = cv2.cvtColor(image, cv2.COLOR_BGR2GRAY)\n",
    "\n",
    "edged = cv2.Canny(gray, 30, 200)\n",
    "cv2.imshow('Canny Edges', edged)\n",
    "cv2.waitKey()\n",
    "\n",
    "# Finding Contours.\n",
    "# Use a copy of your image, since findContours alters the image.\n",
    "contours, hierarchy = cv2.findContours(edged, cv2.RETR_EXTERNAL, cv2.CHAIN_APPROX_NONE)\n",
    "cv2.imshow('Canny Edges After Contouring', edged)\n",
    "cv2.waitKey()\n",
    "\n",
    "print(\"Number of Contours found = \" + str(len(contours)))\n",
    "\n",
    "# Use -1 at the 3rd parameter to draw all.\n",
    "cv2.drawContours(image, contours, -1, (0,255,0), 3)\n",
    "\n",
    "cv2.imshow('Contours', image)\n",
    "cv2.waitKey()\n",
    "cv2.destroyAllWindows()"
   ]
  },
  {
   "cell_type": "raw",
   "id": "128199d6-a933-44de-8374-cc3756649a74",
   "metadata": {},
   "source": [
    "Approximation Methods\n",
    "\n",
    "cv2.CHAIN_APPROX_NONE stores all teh boundary points. \n",
    "But we don't necessarily need all bounding points. \n",
    "If the points from a staight line, we only need the start and ending points of that line.\n",
    "\n",
    "cv2.CHAIN_APPROX_SIMPLE instead only provides these start and end points of bounding contours, thus resulting in much more efficient storage of contour information."
   ]
  },
  {
   "cell_type": "raw",
   "id": "a7eb738d-f7b2-43b2-aa67-f0c8cf3c81d4",
   "metadata": {},
   "source": [
    "Retrival modes\n",
    "\n",
    "cv2.RETR_LIST - retrives all contours\n",
    "cv2.RETR_EXTERNAL - retrives external or outer contours only\n",
    "cv2.RETR_COMP - retrives all in a 2-level hierarchy\n",
    "cv2.RETR_TREE - Retrives all in full hierarchy\n",
    "\n",
    "Hierarchy is stored in the following format: [Next, Previous, First Child, Parent]"
   ]
  }
 ],
 "metadata": {
  "kernelspec": {
   "display_name": "Python 3 (ipykernel)",
   "language": "python",
   "name": "python3"
  },
  "language_info": {
   "codemirror_mode": {
    "name": "ipython",
    "version": 3
   },
   "file_extension": ".py",
   "mimetype": "text/x-python",
   "name": "python",
   "nbconvert_exporter": "python",
   "pygments_lexer": "ipython3",
   "version": "3.10.8"
  }
 },
 "nbformat": 4,
 "nbformat_minor": 5
}
