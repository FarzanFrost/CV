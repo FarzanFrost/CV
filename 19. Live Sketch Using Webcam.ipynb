{
 "cells": [
  {
   "cell_type": "code",
   "execution_count": 1,
   "id": "9635ae23-913d-4091-846f-ce68e45db449",
   "metadata": {
    "tags": []
   },
   "outputs": [],
   "source": [
    "import cv2\n",
    "import numpy as np\n",
    "\n",
    "KEY_ENTER = 13\n",
    "\n",
    "# Sketch generating function.\n",
    "def sketch(image):\n",
    "    img_gray = cv2.cvtColor(image, cv2.COLOR_BGR2GRAY)\n",
    "    img_gray_blur = cv2.GaussianBlur(img_gray, (5,5), 0)\n",
    "    canny_edges = cv2.Canny(img_gray_blur, 10, 25)\n",
    "    \n",
    "    ret, mask = cv2.threshold(canny_edges, 25, 255, cv2.THRESH_BINARY_INV)\n",
    "    return mask\n",
    "\n",
    "# Initialize webcam, cap is the object provided by VideoCapture.\n",
    "# It contains a boolean indicating if it was successful (ret).\n",
    "# It also contains the images collected from teh webcam (frame).\n",
    "cap = cv2.VideoCapture(0)\n",
    "\n",
    "while True:\n",
    "    ret, frame = cap.read()\n",
    "    cv2.imshow('Our Live Sketcher', sketch(frame))\n",
    "    if cv2.waitKey(1) == KEY_ENTER:\n",
    "        break\n",
    "\n",
    "# Release camera and close windows.\n",
    "cap.release()\n",
    "cv2.destroyAllWindows()"
   ]
  }
 ],
 "metadata": {
  "kernelspec": {
   "display_name": "Python 3 (ipykernel)",
   "language": "python",
   "name": "python3"
  },
  "language_info": {
   "codemirror_mode": {
    "name": "ipython",
    "version": 3
   },
   "file_extension": ".py",
   "mimetype": "text/x-python",
   "name": "python",
   "nbconvert_exporter": "python",
   "pygments_lexer": "ipython3",
   "version": "3.10.8"
  }
 },
 "nbformat": 4,
 "nbformat_minor": 5
}
