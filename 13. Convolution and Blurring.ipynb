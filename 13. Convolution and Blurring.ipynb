{
 "cells": [
  {
   "cell_type": "raw",
   "id": "f209f2d9-3825-48f0-bd18-bfdfa2ea7997",
   "metadata": {},
   "source": [
    "cv2.blur - Averages values over a specified window\n",
    "cv2.GaussianBlur - Similar, but uses a GAussian window ( more emphasis or weighting on points around the center )\n",
    "cv2.medianBlur - Uses median of all elements in the window\n",
    "cv2.bilateralFilter - Blur while keeping edges sharp (slower). It also takes a Gaussian filter in space, but one more Gaussian filter which is a function makes sure only those pixels with similar intensity to central pixel is considered for blurring. So it preserves the edges since pixels at edges will have large intensity variation."
   ]
  },
  {
   "cell_type": "code",
   "execution_count": 1,
   "id": "d4e15787-a276-4146-9434-165d476187c5",
   "metadata": {
    "tags": []
   },
   "outputs": [],
   "source": [
    "import cv2\n",
    "import numpy as np\n",
    "\n",
    "image = cv2.imread('Images/elephant.jpg')\n",
    "cv2. imshow('Original Image', image)\n",
    "cv2.waitKey()\n",
    "\n",
    "kernel_3x3 = np.ones((3,3), np.float32)/9\n",
    "\n",
    "blurred = cv2.filter2D(image, -1, kernel_3x3)\n",
    "cv2.imshow('3x3 kernel bluring', blurred)\n",
    "cv2.waitKey()\n",
    "\n",
    "kernel_7x7 = np.ones((7,7), np.float32)/49\n",
    "\n",
    "blurred = cv2.filter2D(image, -1, kernel_7x7)\n",
    "cv2.imshow('7x7 kernel bluring', blurred)\n",
    "cv2.waitKey()\n",
    "\n",
    "cv2.destroyAllWindows()"
   ]
  },
  {
   "cell_type": "code",
   "execution_count": 2,
   "id": "78f33032-fdac-4c48-a675-494181a133d2",
   "metadata": {
    "tags": []
   },
   "outputs": [],
   "source": [
    "# Average kernel.\n",
    "blur = cv2.blur(image,(3,3))\n",
    "cv2.imshow('Averging', blur)\n",
    "cv2.waitKey()\n",
    "\n",
    "Gaussian = cv2.GaussianBlur(image, (7,7), 0)\n",
    "cv2.imshow('Gaussian Blurring', Gaussian)\n",
    "cv2.waitKey()\n",
    "\n",
    "median = cv2.medianBlur(image, 5)\n",
    "cv2.imshow('Median Blurring', median)\n",
    "cv2.waitKey()\n",
    "\n",
    "# Bilateral is very effective in noise removal while keeping edges sharp.\n",
    "bilateral = cv2.bilateralFilter(image, 9, 75,75)\n",
    "cv2.imshow('Bilateral Blurring', bilateral)\n",
    "cv2.waitKey()\n",
    "cv2.destroyAllWindows()"
   ]
  },
  {
   "cell_type": "raw",
   "id": "9222d3c0-4a2e-46c3-b0a2-3a33df0f5826",
   "metadata": {
    "tags": []
   },
   "source": [
    "Image De-noising - Non-Local Means Denoising"
   ]
  },
  {
   "cell_type": "code",
   "execution_count": 3,
   "id": "dc0eddce-53eb-4dea-a94b-19f967d10262",
   "metadata": {
    "tags": []
   },
   "outputs": [],
   "source": [
    "# Parameters, after None are - the filter srength 'h' (5-10 is a good range).\n",
    "# Next is hForColorComponents, set as same value as h again.\n",
    "dst = cv2.fastNlMeansDenoisingColored(image, None, 6, 6, 7, 21)\n",
    "cv2.imshow('FAst Means Denoising', dst)\n",
    "cv2.waitKey()\n",
    "cv2.destroyAllWindows()"
   ]
  },
  {
   "cell_type": "raw",
   "id": "e32c7dac-4f77-4b81-bb39-2e4be69a8914",
   "metadata": {},
   "source": [
    "cv2.fastNlMeansDenoising() - works with a single grayscale image\n",
    "cv2.fastNlMeansDenoisingColored() - works wiht a color image\n",
    "cv2.fastNlMeansDenoisingMulti() - works with grayscale image sequence captured in short period of time\n",
    "cv2.fastNlMeansDenoisingColoredMulti() - works with color image sequence captured in short period of time"
   ]
  }
 ],
 "metadata": {
  "kernelspec": {
   "display_name": "Python 3 (ipykernel)",
   "language": "python",
   "name": "python3"
  },
  "language_info": {
   "codemirror_mode": {
    "name": "ipython",
    "version": 3
   },
   "file_extension": ".py",
   "mimetype": "text/x-python",
   "name": "python",
   "nbconvert_exporter": "python",
   "pygments_lexer": "ipython3",
   "version": "3.10.8"
  }
 },
 "nbformat": 4,
 "nbformat_minor": 5
}
