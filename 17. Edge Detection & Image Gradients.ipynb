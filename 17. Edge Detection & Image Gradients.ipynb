{
 "cells": [
  {
   "cell_type": "raw",
   "id": "de92d04d-a9a1-4708-99e7-49d91caf642c",
   "metadata": {},
   "source": [
    "Three main types of edge detection:\n",
    "Sobel - to emphasize vertical or horizontal edges\n",
    "Laplacian - Gets all orientations\n",
    "Canny - Optimal due to low error rate, we defined edges and accurate detection"
   ]
  },
  {
   "cell_type": "code",
   "execution_count": 1,
   "id": "9ef59582-d78b-4d9d-8ee0-5f4614fcbad1",
   "metadata": {
    "tags": []
   },
   "outputs": [],
   "source": [
    "import cv2\n",
    "import numpy as np\n",
    "\n",
    "image = cv2.imread('Images/input.jpg',cv2.IMREAD_GRAYSCALE)\n",
    "height, width = image.shape\n",
    "\n",
    "# Extracts Sobel Edges.\n",
    "sobel_x = cv2.Sobel(image, cv2.CV_64F, 0, 1, ksize=5)\n",
    "sobel_y = cv2.Sobel(image, cv2.CV_64F, 1, 0, ksize=5)\n",
    "\n",
    "cv2.imshow('Original',image)\n",
    "cv2.waitKey()\n",
    "cv2.imshow('Sobel x',sobel_x)\n",
    "cv2.waitKey()\n",
    "cv2.imshow('Sobel y',sobel_y)\n",
    "cv2.waitKey()\n",
    "\n",
    "sobel_OR = cv2.bitwise_or(sobel_x,sobel_y)\n",
    "cv2.imshow('Sobel OR',sobel_OR)\n",
    "cv2.waitKey()\n",
    "\n",
    "laplacian = cv2.Laplacian(image, cv2.CV_64F)\n",
    "cv2.imshow('laplacian',laplacian)\n",
    "cv2.waitKey()\n",
    "\n",
    "# Here we need to provide two values: threshold1 and threshold2.\n",
    "# Any gradient value larger than threshold2 is considered to be an edge.\n",
    "# Any value below threshold1 is considered not to be an edge.\n",
    "# Values in between threshold1 and threshold 2 are either classified as edges or non-edges based on how their ntensities are \"connected\". \n",
    "\n",
    "canny = cv2.Canny(image, 20, 170)\n",
    "cv2.imshow('Canny', canny)\n",
    "cv2.waitKey()\n",
    "\n",
    "cv2.destroyAllWindows()"
   ]
  }
 ],
 "metadata": {
  "kernelspec": {
   "display_name": "Python 3 (ipykernel)",
   "language": "python",
   "name": "python3"
  },
  "language_info": {
   "codemirror_mode": {
    "name": "ipython",
    "version": 3
   },
   "file_extension": ".py",
   "mimetype": "text/x-python",
   "name": "python",
   "nbconvert_exporter": "python",
   "pygments_lexer": "ipython3",
   "version": "3.10.8"
  }
 },
 "nbformat": 4,
 "nbformat_minor": 5
}
