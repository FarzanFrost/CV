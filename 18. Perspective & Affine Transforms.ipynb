{
 "cells": [
  {
   "cell_type": "code",
   "execution_count": 3,
   "id": "856d3c72-cc77-4617-881e-fb94cf697912",
   "metadata": {
    "tags": []
   },
   "outputs": [],
   "source": [
    "# Perspective Transform.\n",
    "\n",
    "import cv2\n",
    "import numpy as np\n",
    "import matplotlib.pyplot as plt\n",
    "\n",
    "image = cv2.imread('Images/contours.jpg')\n",
    "cv2.imshow('Orginal',image)\n",
    "cv2.waitKey()\n",
    "\n",
    "# Co-ordinates of the 4 corners of the original image.\n",
    "points_A = np.float32([[320,15],[700,215],[85,610],[530,780]])\n",
    "\n",
    "# Co-ordinates of the 4 corners of the desired output.\n",
    "# We use a ratio of an A4 paper 1 : 1.41\n",
    "points_B = np.float32([[0,0],[420,0],[0,594],[420,594]])\n",
    "\n",
    "# The Perspective Transformation matrix, M.\n",
    "M = cv2.getPerspectiveTransform(points_A, points_B)\n",
    "\n",
    "warped = cv2.warpPerspective(image, M, (420,594))\n",
    "\n",
    "cv2.imshow('warpPerspetive',warped)\n",
    "cv2.waitKey()\n",
    "cv2.destroyAllWindows()"
   ]
  },
  {
   "cell_type": "code",
   "execution_count": 2,
   "id": "16d5d0f5-34f1-4a5d-842a-025ed0e2e6ed",
   "metadata": {
    "tags": []
   },
   "outputs": [],
   "source": [
    "# Affine transorms, you only need 3 co-ordinates.\n",
    "\n",
    "image = cv2.imread('Images/ex2.jpg')\n",
    "rows, cols, ch = image.shape\n",
    "cv2.imshow('Orginal',image)\n",
    "cv2.waitKey()\n",
    "\n",
    "# Co-ordinates of the 3 corners of the original image.\n",
    "points_A = np.float32([[320,15],[700,215],[85,610]])\n",
    "\n",
    "# Co-ordinates of the 3 corners of the desired output.\n",
    "# @3 use a ratio of an A4 paper 1 : 1.41\n",
    "points_B = np.float32([[0,0],[420,0],[0,594]])\n",
    "\n",
    "# The Affine Transformation matrix, M.\n",
    "M = cv2.getAffineTransform(points_A, points_B)\n",
    "\n",
    "warped = cv2.warpAffine(image, M, (cols,rows))\n",
    "\n",
    "cv2.imshow('warpPerspetive',warped)\n",
    "cv2.waitKey()\n",
    "cv2.destroyAllWindows()"
   ]
  }
 ],
 "metadata": {
  "kernelspec": {
   "display_name": "Python 3 (ipykernel)",
   "language": "python",
   "name": "python3"
  },
  "language_info": {
   "codemirror_mode": {
    "name": "ipython",
    "version": 3
   },
   "file_extension": ".py",
   "mimetype": "text/x-python",
   "name": "python",
   "nbconvert_exporter": "python",
   "pygments_lexer": "ipython3",
   "version": "3.10.8"
  }
 },
 "nbformat": 4,
 "nbformat_minor": 5
}
