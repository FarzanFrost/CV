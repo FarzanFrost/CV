{
 "cells": [
  {
   "cell_type": "code",
   "execution_count": 1,
   "id": "067051fb-fe6d-4b44-9d3c-2e9c506720cf",
   "metadata": {
    "tags": []
   },
   "outputs": [],
   "source": [
    "import cv2\n",
    "import numpy as np\n",
    "\n",
    "image = np.zeros((512,512,3)).astype(\"uint8\")\n",
    "\n",
    "imageBlackAndWhite = np.zeros((512,512)).astype(\"uint8\")\n",
    "\n",
    "cv2.imshow(\"Black Rectangle (Color)\", image)\n",
    "cv2.imshow(\"Black Rectangle (B&W)\", imageBlackAndWhite)\n",
    "\n",
    "cv2.waitKey()\n",
    "cv2.destroyAllWindows()"
   ]
  },
  {
   "cell_type": "code",
   "execution_count": 2,
   "id": "18406feb-df5a-4e68-8a06-627c54465889",
   "metadata": {
    "tags": []
   },
   "outputs": [],
   "source": [
    "# Draw a line.\n",
    "imageLine = image.copy()\n",
    "# Parameters are ( image, stating point, ending point, color of line, thickness of line in pixel ).\n",
    "cv2.line(imageLine, (0,0), (511,511), (255,127,0),5)\n",
    "cv2.imshow(\"Blue Line\", imageLine)\n",
    "cv2.waitKey()\n",
    "cv2.destroyAllWindows()"
   ]
  },
  {
   "cell_type": "code",
   "execution_count": 3,
   "id": "862ac73c-3af8-4b8e-8058-cba7f0856906",
   "metadata": {
    "tags": []
   },
   "outputs": [],
   "source": [
    "# Draw a rectangle.\n",
    "imageRectangle = image.copy()\n",
    "# Parameters are ( image, stating point, ending point, color of line, thickness of line in pixel ).\n",
    "cv2.rectangle(imageRectangle, (100,100), (300,250), (127,50,127), 5)\n",
    "cv2.imshow(\"Rectangle\", imageRectangle)\n",
    "cv2.waitKey()\n",
    "cv2.destroyAllWindows()"
   ]
  },
  {
   "cell_type": "code",
   "execution_count": 4,
   "id": "bc0c2bc5-184f-4013-b408-e95d3fe6466e",
   "metadata": {
    "tags": []
   },
   "outputs": [],
   "source": [
    "# Draw a circle.\n",
    "imageCircle = image.copy()\n",
    "# Parameters are ( image, center, radius, color of line, thickness of line in pixel ).\n",
    "# -1 will fill the object.\n",
    "cv2.circle(imageCircle, (350,350), 100, (15,75,50), -1)\n",
    "cv2.imshow(\"Circle\", imageCircle)\n",
    "cv2.waitKey()\n",
    "cv2.destroyAllWindows()"
   ]
  },
  {
   "cell_type": "code",
   "execution_count": 6,
   "id": "6bc960df-b166-4a8e-84e9-960ed198ea25",
   "metadata": {
    "tags": []
   },
   "outputs": [],
   "source": [
    "# Draw a polygon.\n",
    "imagePolygon = image.copy()\n",
    "points = np.array([[10,50],[400,50],[90,200],[50,500]]).astype(\"int32\")\n",
    "\n",
    "# We reshpae our points in form required by polylines\n",
    "points = points.reshape((-1,1,2))\n",
    "# Parameters are ( image, points,is polygon closed, color of line, thickness of line in pixel ).\n",
    "cv2.polylines(imagePolygon, [points], True, (0,0,255),3)\n",
    "cv2.imshow(\"Polygon\", imagePolygon)\n",
    "cv2.waitKey()\n",
    "cv2.destroyAllWindows()"
   ]
  },
  {
   "cell_type": "code",
   "execution_count": 8,
   "id": "57d002f2-4ae0-49ba-8e5d-117cac6e6a80",
   "metadata": {
    "tags": []
   },
   "outputs": [],
   "source": [
    "# Add Text to image.\n",
    "imageText = image.copy()\n",
    "# Parameters are ( image, text, points of buttom left stating point, font style, font size, color, thickness ).\n",
    "cv2.putText(imageText, 'Hello World!!!', (50, 290), cv2.FONT_HERSHEY_COMPLEX, 2, (100, 170, 0), 3)\n",
    "cv2.imshow(\"Hello World\", imageText)\n",
    "cv2.waitKey()\n",
    "cv2.destroyAllWindows()"
   ]
  }
 ],
 "metadata": {
  "kernelspec": {
   "display_name": "Python 3 (ipykernel)",
   "language": "python",
   "name": "python3"
  },
  "language_info": {
   "codemirror_mode": {
    "name": "ipython",
    "version": 3
   },
   "file_extension": ".py",
   "mimetype": "text/x-python",
   "name": "python",
   "nbconvert_exporter": "python",
   "pygments_lexer": "ipython3",
   "version": "3.10.8"
  }
 },
 "nbformat": 4,
 "nbformat_minor": 5
}
