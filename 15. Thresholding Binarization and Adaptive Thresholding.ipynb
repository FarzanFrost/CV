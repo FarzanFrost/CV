{
 "cells": [
  {
   "cell_type": "raw",
   "id": "564f9886-469f-4544-a127-90e9445651b2",
   "metadata": {},
   "source": [
    "Thresholding, Binarization & Adaptive Thresholding\n",
    "\n",
    "Thresholding is an act of converting an image to a binary form\n",
    "\n",
    "Threshold Types:\n",
    "cv2.THRESH_BINARY - Most Common\n",
    "cv2.THRESH_BINARY_INV - Most Common\n",
    "cv2.THRESH_TRUNC\n",
    "cv2.THRESH_TOZERO\n",
    "cv2.THRESH_TOZERO_INV\n",
    "\n",
    "PS. Image needed to be converted to grayscale before thresholding."
   ]
  },
  {
   "cell_type": "code",
   "execution_count": 1,
   "id": "ecb45f3d-7e0a-4cf2-bc1b-cfecb92bd8cd",
   "metadata": {
    "tags": []
   },
   "outputs": [],
   "source": [
    "import cv2\n",
    "import numpy as np\n",
    "\n",
    "# Load image as grayscale.\n",
    "image = cv2.imread('Images/marsface.jpg',cv2.IMREAD_GRAYSCALE)\n",
    "cv2.imshow('Original', image)\n",
    "\n",
    "# Parameters are (image, threshold value, max value, threshold type).\n",
    "ret,thresh = cv2.threshold(image, 127, 255, cv2.THRESH_BINARY)\n",
    "cv2.imshow('Threshold binary', thresh)\n",
    "\n",
    "ret,thresh = cv2.threshold(image, 127, 255, cv2.THRESH_BINARY_INV)\n",
    "cv2.imshow('Threshold binary Inverse', thresh)\n",
    "\n",
    "ret,thresh = cv2.threshold(image, 127, 255, cv2.THRESH_TRUNC)\n",
    "cv2.imshow('Threshold Trunc', thresh)\n",
    "\n",
    "ret,thresh = cv2.threshold(image, 127, 255, cv2.THRESH_TOZERO)\n",
    "cv2.imshow('Threshold TOZERO', thresh)\n",
    "\n",
    "ret,thresh = cv2.threshold(image, 127, 255, cv2.THRESH_TOZERO_INV)\n",
    "cv2.imshow('Threshold TOZERO Inverse', thresh)\n",
    "cv2.waitKey()\n",
    "\n",
    "cv2.destroyAllWindows()"
   ]
  },
  {
   "cell_type": "raw",
   "id": "1babe05e-4cf4-4a74-83eb-288439b347ac",
   "metadata": {},
   "source": [
    "Is there a better way off thresholding?\n",
    "\n",
    "The biggest downfall of those simple threshold methods is that we need to provide the threshold value (i.e. the 127 value we used)\n",
    "\n",
    "A smarter way of thresholding is Adaptive thresholding"
   ]
  },
  {
   "cell_type": "code",
   "execution_count": 2,
   "id": "5ee89f80-e4e2-4c27-9671-80c9b151ef92",
   "metadata": {
    "tags": []
   },
   "outputs": [],
   "source": [
    "image = cv2.imread('Images/Origin_of_Species.jpg',cv2.IMREAD_GRAYSCALE)\n",
    "\n",
    "cv2.imshow('Original', image)\n",
    "cv2.waitKey()\n",
    "\n",
    "# Values below 127 goes to 0(black), everything above goes 255(white).\n",
    "ret,thresh = cv2.threshold(image, 127, 255, cv2.THRESH_BINARY)\n",
    "cv2.imshow('Threshold binary', thresh)\n",
    "cv2.waitKey()\n",
    "\n",
    "# It's a good practice bluring an image as it removes noise.\n",
    "image = cv2.GaussianBlur(image, (3,3), 0)\n",
    "\n",
    "# Using adaptiveThresholding.\n",
    "# Parameters are (image, max value, adaptive type, threshold type, block size, constant that is substracted from mean).\n",
    "thresh = cv2.adaptiveThreshold(image, 255, cv2.ADAPTIVE_THRESH_MEAN_C, cv2.THRESH_BINARY, 3, 5)\n",
    "cv2.imshow('Adaptive mean thresholding', thresh)\n",
    "cv2.waitKey()\n",
    "\n",
    "_, thresh = cv2.threshold(image, 0,255, cv2.THRESH_BINARY + cv2.THRESH_OTSU)\n",
    "cv2.imshow('Otsu\\'s thresholding', thresh)\n",
    "cv2.waitKey()\n",
    "\n",
    "# Otsu's thresholding after Gaussian filtering.\n",
    "blur = cv2.GaussianBlur(image, (5,5), 0)\n",
    "_, thresh = cv2.threshold(blur, 0,255, cv2.THRESH_BINARY + cv2.THRESH_OTSU)\n",
    "cv2.imshow(' Guassian Otsu\\'s thresholding', thresh)\n",
    "cv2.waitKey()\n",
    "\n",
    "cv2.destroyAllWindows()"
   ]
  },
  {
   "cell_type": "raw",
   "id": "67684dd8-6ca5-4fd7-b85c-7f24f7fa7caf",
   "metadata": {},
   "source": [
    "Adaptive Threshold Types:\n",
    "ADAPTIVE_THRESH_MEAN_C - based on mean of the neighborhood of pixels\n",
    "ADAPTIVE_THRESH_GAUSSIAN_C - Weighted sum of neighborhood pixels under the Gaussian window\n",
    "THRESH_OTSU - Clever algorithm assumes there are two peaks in the gray scale histogram of the image and then tries to find an optimal value to separate these two peaks to find T"
   ]
  }
 ],
 "metadata": {
  "kernelspec": {
   "display_name": "Python 3 (ipykernel)",
   "language": "python",
   "name": "python3"
  },
  "language_info": {
   "codemirror_mode": {
    "name": "ipython",
    "version": 3
   },
   "file_extension": ".py",
   "mimetype": "text/x-python",
   "name": "python",
   "nbconvert_exporter": "python",
   "pygments_lexer": "ipython3",
   "version": "3.10.8"
  }
 },
 "nbformat": 4,
 "nbformat_minor": 5
}
