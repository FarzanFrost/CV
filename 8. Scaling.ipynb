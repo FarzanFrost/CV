{
 "cells": [
  {
   "cell_type": "raw",
   "id": "ab7e2022-a2b6-4224-86f2-5f51dfd3ee84",
   "metadata": {},
   "source": [
    "Affine Transform\n",
    "\n",
    "Interpolation\n",
    "\n",
    "cv2.INTER_AREA - Good for shrinking or down sampling\n",
    "cv2.INTER_NEAREST - FASTEST\n",
    "cv2.INTER_LINEAR - Good for zooming or up sampling (default)\n",
    "cv2.INTER_CUBIC - Better\n",
    "cv2.INTER_LANCZOS4 - BEST"
   ]
  },
  {
   "cell_type": "code",
   "execution_count": 1,
   "id": "9c67be6f-df20-4370-aeea-ab30f959f59c",
   "metadata": {
    "tags": []
   },
   "outputs": [],
   "source": [
    "import cv2\n",
    "import numpy as np\n",
    "\n",
    "image = cv2.imread('Images/input.jpg')\n",
    "cv2.imshow('Original Image', image)\n",
    "cv2.waitKey()\n",
    "# Parameters are ( iamge, output image size(width, height),x scale, y scale, interpolation) \n",
    "image_scaled = cv2.resize(image, None, fx=0.75, fy=0.75)\n",
    "cv2.imshow('Scaling - Linear Interpolation', image_scaled)\n",
    "cv2.waitKey()\n",
    "\n",
    "image_scaled = cv2.resize(image, None, fx=2, fy=2, interpolation = cv2.INTER_CUBIC)\n",
    "cv2.imshow('Scaling - Cubic Interpolation', image_scaled)\n",
    "cv2.waitKey()\n",
    "\n",
    "image_scaled = cv2.resize(image, (900,400), fx=2, fy=2, interpolation = cv2.INTER_AREA)\n",
    "cv2.imshow('Scaling - Cubic Interpolation', image_scaled)\n",
    "cv2.waitKey()\n",
    "\n",
    "cv2.destroyAllWindows()"
   ]
  },
  {
   "cell_type": "code",
   "execution_count": null,
   "id": "78aaa30e-f01f-47d9-8b07-ae177898cc15",
   "metadata": {},
   "outputs": [],
   "source": []
  }
 ],
 "metadata": {
  "kernelspec": {
   "display_name": "Python 3 (ipykernel)",
   "language": "python",
   "name": "python3"
  },
  "language_info": {
   "codemirror_mode": {
    "name": "ipython",
    "version": 3
   },
   "file_extension": ".py",
   "mimetype": "text/x-python",
   "name": "python",
   "nbconvert_exporter": "python",
   "pygments_lexer": "ipython3",
   "version": "3.10.8"
  }
 },
 "nbformat": 4,
 "nbformat_minor": 5
}
