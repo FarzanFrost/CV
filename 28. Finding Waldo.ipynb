{
 "cells": [
  {
   "cell_type": "code",
   "execution_count": 1,
   "id": "6f7f1d7b-fbb4-4f24-91ee-57dc3a5ce88b",
   "metadata": {
    "tags": []
   },
   "outputs": [],
   "source": [
    "# Object detection, Template matching.\n",
    "import cv2 \n",
    "import numpy as np\n",
    "\n",
    "image = cv2.imread('Images/WaldoBeach.jpg')\n",
    "cv2.imshow('Where is Waldo?', image)\n",
    "cv2.waitKey()\n",
    "gray = cv2.cvtColor(image, cv2.COLOR_BGR2GRAY)\n",
    "\n",
    "template = cv2.imread('Images/waldo.jpg', cv2.IMREAD_GRAYSCALE)\n",
    "\n",
    "result = cv2.matchTemplate(gray, template, cv2.TM_CCOEFF)\n",
    "min_val, max_val, min_loc, max_loc = cv2.minMaxLoc(result)\n",
    "\n",
    "top_left = max_loc\n",
    "bottom_right = (top_left[0] +50, top_left[1] + 50)\n",
    "cv2.rectangle(image, top_left, bottom_right, (0,0, 255), 5)\n",
    "\n",
    "cv2.imshow('Where is Waldo?', image)\n",
    "cv2.waitKey()\n",
    "cv2.destroyAllWindows()"
   ]
  },
  {
   "cell_type": "raw",
   "id": "ce5212bc-b978-4979-8aad-856d8d0e9ad1",
   "metadata": {},
   "source": [
    "# Template matching methods\n",
    "CV_TM_SQDIFF\n",
    "CV_TM_SQDIFF_NORMED\n",
    "CV_TM_CCORR\n",
    "CV_TM_CCORR_NORMED\n",
    "CV_TM_CCOEFF\n",
    "CV_TM_CCOEFF_NORMED"
   ]
  }
 ],
 "metadata": {
  "kernelspec": {
   "display_name": "Python 3 (ipykernel)",
   "language": "python",
   "name": "python3"
  },
  "language_info": {
   "codemirror_mode": {
    "name": "ipython",
    "version": 3
   },
   "file_extension": ".py",
   "mimetype": "text/x-python",
   "name": "python",
   "nbconvert_exporter": "python",
   "pygments_lexer": "ipython3",
   "version": "3.10.8"
  }
 },
 "nbformat": 4,
 "nbformat_minor": 5
}
