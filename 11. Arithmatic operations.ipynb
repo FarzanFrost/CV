{
 "cells": [
  {
   "cell_type": "raw",
   "id": "8b5bc550-743b-4b4c-b57d-a040e152b697",
   "metadata": {},
   "source": [
    "Arithmetic Operations\n",
    "\n",
    "These are simple operations that allow us to directly add or substract to the color intensity"
   ]
  },
  {
   "cell_type": "code",
   "execution_count": 2,
   "id": "274b01d3-12d7-4d99-8f07-27a0f9025151",
   "metadata": {
    "tags": []
   },
   "outputs": [],
   "source": [
    "import cv2\n",
    "import numpy as np\n",
    "\n",
    "image = cv2.imread('Images/input.jpg')\n",
    "\n",
    "# Create a matrix with the same dimensions as the image\n",
    "M = np.ones(image.shape).astype(\"uint8\") * 75\n",
    "\n",
    "added_image = cv2.add(image,M)\n",
    "cv2.imshow('Added', added_image)\n",
    "\n",
    "subtracted_image = cv2.subtract(image,M)\n",
    "cv2.imshow('Subracted', subtracted_image)\n",
    "\n",
    "cv2.waitKey()\n",
    "cv2.destroyAllWindows()"
   ]
  }
 ],
 "metadata": {
  "kernelspec": {
   "display_name": "Python 3 (ipykernel)",
   "language": "python",
   "name": "python3"
  },
  "language_info": {
   "codemirror_mode": {
    "name": "ipython",
    "version": 3
   },
   "file_extension": ".py",
   "mimetype": "text/x-python",
   "name": "python",
   "nbconvert_exporter": "python",
   "pygments_lexer": "ipython3",
   "version": "3.10.8"
  }
 },
 "nbformat": 4,
 "nbformat_minor": 5
}
