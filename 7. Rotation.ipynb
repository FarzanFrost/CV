{
 "cells": [
  {
   "cell_type": "markdown",
   "id": "90854234-2a43-4db9-96b7-d1b24e654cd7",
   "metadata": {},
   "source": [
    "\n",
    "Affine Transform"
   ]
  },
  {
   "cell_type": "code",
   "execution_count": 1,
   "id": "26ad3b4e-98d9-4cd7-86ba-3efb5f3ce672",
   "metadata": {
    "tags": []
   },
   "outputs": [
    {
     "name": "stdout",
     "output_type": "stream",
     "text": [
      "(415, 622)\n"
     ]
    }
   ],
   "source": [
    "import cv2\n",
    "import numpy as np\n",
    "\n",
    "image = cv2.imread('Images/input.jpg')\n",
    "print(image.shape[:2])\n",
    "height, width = image.shape[:2]\n",
    "\n",
    "# Parameters are ( (rotation center x, rotation center y), angle of rotation, scale\n",
    "rotationMatrix = cv2.getRotationMatrix2D((width/2,height/2), 90, .5)\n",
    "\n",
    "rotatedImage = cv2.warpAffine(image, rotationMatrix, (width, height))\n",
    "\n",
    "cv2.imshow('Rotated Image', rotatedImage)\n",
    "cv2.waitKey()\n",
    "cv2.destroyAllWindows()"
   ]
  },
  {
   "cell_type": "code",
   "execution_count": 3,
   "id": "358013ce-0c59-46b2-9492-5a389d850f6a",
   "metadata": {
    "tags": []
   },
   "outputs": [],
   "source": [
    "# Other option to rotate 90 degrees one time.\n",
    "rotatedImage = cv2.transpose(image)\n",
    "cv2.imshow('Rotated Image', rotatedImage)\n",
    "cv2.waitKey()\n",
    "cv2.destroyAllWindows()"
   ]
  }
 ],
 "metadata": {
  "kernelspec": {
   "display_name": "Python 3 (ipykernel)",
   "language": "python",
   "name": "python3"
  },
  "language_info": {
   "codemirror_mode": {
    "name": "ipython",
    "version": 3
   },
   "file_extension": ".py",
   "mimetype": "text/x-python",
   "name": "python",
   "nbconvert_exporter": "python",
   "pygments_lexer": "ipython3",
   "version": "3.10.8"
  }
 },
 "nbformat": 4,
 "nbformat_minor": 5
}
