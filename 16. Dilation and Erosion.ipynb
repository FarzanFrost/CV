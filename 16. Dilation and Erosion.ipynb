{
 "cells": [
  {
   "cell_type": "raw",
   "id": "a2f88980-bcfa-4b83-8fe6-e4f5365e6715",
   "metadata": {},
   "source": [
    "Dilation - Adds pixels to the boundaries of objects in an image\n",
    "Erosion - Removes pixels at the boundaries of objects in an image\n",
    "Opening - Erosion followed by dilation\n",
    "Closing - Dilation followed by erosion"
   ]
  },
  {
   "cell_type": "code",
   "execution_count": 1,
   "id": "fe45b834-ad37-4757-981c-710ceb66f373",
   "metadata": {
    "tags": []
   },
   "outputs": [],
   "source": [
    "import cv2\n",
    "import numpy as np\n",
    "image = cv2.imread('Images/OCRtestimg.jpg')\n",
    "cv2.imshow('Original', image)\n",
    "cv2.waitKey()\n",
    "\n",
    "kernel = np.ones((5,5)).astype(\"uint8\")\n",
    "\n",
    "erosion = cv2.erode(image, kernel)\n",
    "cv2.imshow('Erosion', erosion)\n",
    "cv2.waitKey()\n",
    "\n",
    "dilation = cv2.dilate(image, kernel)\n",
    "cv2.imshow('Dilation', dilation)\n",
    "cv2.waitKey()\n",
    "\n",
    "# Opening - Good for removing noise.\n",
    "opening = cv2.morphologyEx(image, cv2.MORPH_OPEN, kernel)\n",
    "cv2.imshow('Opening', opening)\n",
    "cv2.waitKey()\n",
    "\n",
    "# Closing - Good for removing noise\n",
    "closing = cv2.morphologyEx(image, cv2.MORPH_CLOSE, kernel)\n",
    "cv2.imshow('Closing', closing)\n",
    "cv2.waitKey()\n",
    "\n",
    "cv2.destroyAllWindows()"
   ]
  }
 ],
 "metadata": {
  "kernelspec": {
   "display_name": "Python 3 (ipykernel)",
   "language": "python",
   "name": "python3"
  },
  "language_info": {
   "codemirror_mode": {
    "name": "ipython",
    "version": 3
   },
   "file_extension": ".py",
   "mimetype": "text/x-python",
   "name": "python",
   "nbconvert_exporter": "python",
   "pygments_lexer": "ipython3",
   "version": "3.10.8"
  }
 },
 "nbformat": 4,
 "nbformat_minor": 5
}
