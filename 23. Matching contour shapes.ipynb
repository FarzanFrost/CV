{
 "cells": [
  {
   "cell_type": "raw",
   "id": "06d089f6-8e5b-4e0a-8f77-2b316f1dcf4b",
   "metadata": {},
   "source": [
    "Shape Matching\n",
    "\n",
    "cv2.matchShapes(contour template, contour, method, method parameter)\n",
    "\n",
    "Output - match value ( lower values means a closer match to the template)\n",
    "    - Contour Template - is our referenc contour that we're trying to find in the new image\n",
    "    - Contour - The individual contour we are checking against\n",
    "    - Method - Type of contour matching (1, 2, 3)\n",
    "    - Method Paramether - leave alone as 0.0 ( not fully utilized in python OpenCV )"
   ]
  },
  {
   "cell_type": "code",
   "execution_count": 2,
   "id": "cd8bd51d-7348-4ecc-897d-54c4f038fb29",
   "metadata": {
    "tags": []
   },
   "outputs": [
    {
     "name": "stdout",
     "output_type": "stream",
     "text": [
      "0.16818605122199104\n",
      "0.19946910256158912\n",
      "0.18949760627309664\n",
      "0.11101058276281539\n"
     ]
    }
   ],
   "source": [
    "import cv2\n",
    "import numpy as np\n",
    "\n",
    "template = cv2.imread('Images/4star.jpg', cv2.IMREAD_GRAYSCALE)\n",
    "cv2.imshow('Template', template)\n",
    "cv2.waitKey()\n",
    "\n",
    "target = cv2.imread('Images/shapestomatch.jpg')\n",
    "target_gray = cv2.cvtColor(target, cv2.COLOR_BGR2GRAY)\n",
    "\n",
    "# Threshold both images first before using cv2.findContours.\n",
    "ret, thresh1 = cv2.threshold(template, 127, 255, 0)\n",
    "ret, thresh2 = cv2.threshold(target_gray, 127, 255, 0)\n",
    "\n",
    "contours, hierarchy = cv2.findContours(thresh1, cv2.RETR_CCOMP, cv2.CHAIN_APPROX_SIMPLE)\n",
    "\n",
    "# We need to sort the contours by area so that we can remove the largest.\n",
    "# contour which is the image outline.\n",
    "sorted_contours = sorted(contours, key=cv2.contourArea, reverse=True)\n",
    "\n",
    "# We extract the second largest contour which will be our template contour.\n",
    "template_contour = contours[1]\n",
    "\n",
    "contours, hierarchy = cv2.findContours(thresh2, cv2.RETR_CCOMP, cv2.CHAIN_APPROX_SIMPLE)\n",
    "\n",
    "for c in contours:\n",
    "    # Iterate through each contour in the target image.\n",
    "    # And use cv2.matchShapes to compare contour shapes.\n",
    "    match = cv2.matchShapes(template_contour, c, 1, 0.0)\n",
    "    print(match)\n",
    "    # If match is lesser than 0.15\n",
    "    if match < 0.15:\n",
    "        closest_contour = c\n",
    "    else:\n",
    "        closes_contour = []\n",
    "    \n",
    "cv2.drawContours(target, [closest_contour], -1, (0, 255, 0), 3)\n",
    "cv2.imshow('Output', target)\n",
    "cv2.waitKey()\n",
    "cv2.destroyAllWindows()"
   ]
  }
 ],
 "metadata": {
  "kernelspec": {
   "display_name": "Python 3 (ipykernel)",
   "language": "python",
   "name": "python3"
  },
  "language_info": {
   "codemirror_mode": {
    "name": "ipython",
    "version": 3
   },
   "file_extension": ".py",
   "mimetype": "text/x-python",
   "name": "python",
   "nbconvert_exporter": "python",
   "pygments_lexer": "ipython3",
   "version": "3.10.8"
  }
 },
 "nbformat": 4,
 "nbformat_minor": 5
}
