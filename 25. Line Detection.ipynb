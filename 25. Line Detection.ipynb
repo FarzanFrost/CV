{
 "cells": [
  {
   "cell_type": "raw",
   "id": "77c0b966-f97d-410d-b167-f3223aa5795b",
   "metadata": {},
   "source": [
    "Line Detection using Hough Lines\n",
    "\n",
    "cv2.HoughLines(binarized/thresholded image, p accuracy, theta accuracy, threshold)\n",
    "p (rho) - perpedicular distance from origin\n",
    "theta - clockwise angle in radians\n",
    "threshold - here is the minimum  bote for it to be considered a line."
   ]
  },
  {
   "cell_type": "code",
   "execution_count": 12,
   "id": "5f3adc3c-f944-4c3e-bc1f-da4ad415822a",
   "metadata": {
    "tags": []
   },
   "outputs": [],
   "source": [
    "import cv2\n",
    "import numpy as np\n",
    "\n",
    "image = cv2.imread('Images/soduku.jpg')\n",
    "gray = cv2.cvtColor(image, cv2.COLOR_BGR2GRAY)\n",
    "edges = cv2.Canny(gray, 100, 170, apertureSize = 3)\n",
    "\n",
    "# Execute HoughLines using a rho accuracy of 1 pixel.\n",
    "# Theta accuracy of np.pi/180 which is 1 degree.\n",
    "# Line threshold is set to 240 ( number of points on the line).\n",
    "lines = cv2.HoughLines(edges, 1, np.pi / 180, 240)\n",
    "\n",
    "# We iterate through each line and convert it to the format required by.\n",
    "# cv2.lines ( i.e. requires end points).\n",
    "for line in lines:\n",
    "    for rho, theta in line:\n",
    "        b = np.sin(theta)\n",
    "        x0 = a * rho\n",
    "        y0 = b * rho\n",
    "        x1 = int(x0 + 1000 * (-b))\n",
    "        y1 = int(y0 + 1000 * (a))    \n",
    "        x2 = int(x0 - 1000 * (-b))\n",
    "        y2 = int(y0 - 1000 * (a))\n",
    "        cv2.line(image, (x1, y1), (x2, y2), (255, 0, 0), 2)\n",
    "\n",
    "cv2.imshow('Hought Lines', image)\n",
    "cv2.waitKey()\n",
    "cv2.destroyAllWindows()"
   ]
  },
  {
   "cell_type": "code",
   "execution_count": 19,
   "id": "d507c42b-4529-4a31-9c87-153f19835538",
   "metadata": {
    "tags": []
   },
   "outputs": [],
   "source": [
    "image = cv2.imread('Images/soduku.jpg')\n",
    "gray = cv2.cvtColor(image, cv2.COLOR_BGR2GRAY)\n",
    "edges = cv2.Canny(gray, 100, 170, apertureSize = 3)\n",
    "\n",
    "lines = cv2.HoughLinesP(edges, 1, np.pi / 180, 100, 5, 10)\n",
    "\n",
    "for line in lines:\n",
    "    for x1, y1, x2, y2 in line:\n",
    "        cv2.line(image, (x1,y1), (x2,y2), (0, 255, 0), 3)\n",
    "\n",
    "cv2.imshow('Probabilistic Hought Lines', image)\n",
    "cv2.waitKey()\n",
    "cv2.destroyAllWindows()"
   ]
  }
 ],
 "metadata": {
  "kernelspec": {
   "display_name": "Python 3 (ipykernel)",
   "language": "python",
   "name": "python3"
  },
  "language_info": {
   "codemirror_mode": {
    "name": "ipython",
    "version": 3
   },
   "file_extension": ".py",
   "mimetype": "text/x-python",
   "name": "python",
   "nbconvert_exporter": "python",
   "pygments_lexer": "ipython3",
   "version": "3.10.8"
  }
 },
 "nbformat": 4,
 "nbformat_minor": 5
}
