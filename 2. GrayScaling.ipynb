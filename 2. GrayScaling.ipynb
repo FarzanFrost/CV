{
 "cells": [
  {
   "cell_type": "code",
   "execution_count": 12,
   "id": "77a3d8d2-b478-4d37-99f7-664b4f03fd8d",
   "metadata": {
    "tags": []
   },
   "outputs": [],
   "source": [
    "import cv2\n",
    "\n",
    "image = cv2.imread('./Images/input.jpg')\n",
    "cv2.imshow('Original', image )\n",
    "cv2.waitKey()\n",
    "\n",
    "grayImage = cv2.cvtColor(image, cv2.COLOR_BGR2GRAY)\n",
    "\n",
    "cv2.imshow('GrayScale', grayImage)\n",
    "cv2.waitKey()\n",
    "cv2.destroyAllWindows()"
   ]
  },
  {
   "cell_type": "code",
   "execution_count": 13,
   "id": "6e1f3a0d-449c-4804-a572-aa21c1ec9215",
   "metadata": {
    "tags": []
   },
   "outputs": [],
   "source": [
    "# A faster method to convert ot gray scale.\n",
    "img = cv2.imread('./Images/input.jpg',cv2.IMREAD_GRAYSCALE)\n",
    "cv2.imshow('GrayScale', img)\n",
    "cv2.waitKey()\n",
    "cv2.destroyAllWindows()"
   ]
  }
 ],
 "metadata": {
  "kernelspec": {
   "display_name": "Python 3 (ipykernel)",
   "language": "python",
   "name": "python3"
  },
  "language_info": {
   "codemirror_mode": {
    "name": "ipython",
    "version": 3
   },
   "file_extension": ".py",
   "mimetype": "text/x-python",
   "name": "python",
   "nbconvert_exporter": "python",
   "pygments_lexer": "ipython3",
   "version": "3.10.8"
  }
 },
 "nbformat": 4,
 "nbformat_minor": 5
}
