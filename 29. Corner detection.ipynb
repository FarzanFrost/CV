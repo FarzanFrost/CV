{
 "cells": [
  {
   "cell_type": "code",
   "execution_count": 1,
   "id": "e580b508-b5d0-4aad-ac5f-9f64de60c51b",
   "metadata": {
    "tags": []
   },
   "outputs": [],
   "source": [
    "import cv2\n",
    "import numpy as np\n",
    "\n",
    "image = cv2.imread('Images/chess.jpg')\n",
    "gray = cv2.cvtColor(image, cv2.COLOR_BGR2GRAY)\n",
    "\n",
    "# The CornerHarris function requires the array datatype to be float32.\n",
    "gray = np.float32(gray)\n",
    "\n",
    "harris_corners = cv2.cornerHarris(gray, 3, 3, 0.05)\n",
    "\n",
    "# We use dilation of the corner points to enlarge them.\n",
    "kernel = np.ones((7,7)).astype('uint8')\n",
    "harris_corners = cv2.dilate(harris_corners, kernel)\n",
    "\n",
    "# Threshold for an optimal value, it may vary depending on the image.\n",
    "image[harris_corners > 0.025 * harris_corners.max() ] = [ 255, 127, 127 ]\n",
    "\n",
    "cv2.imshow('Harris Corners', image)\n",
    "cv2.waitKey()\n",
    "cv2.destroyAllWindows()"
   ]
  },
  {
   "cell_type": "raw",
   "id": "f10a93ca-097d-4b8c-993e-11927055f1a7",
   "metadata": {},
   "source": [
    "cv2.cornerHarris(input image, block size, ksize, k)\n",
    "\n",
    "input image = should be grayscale and float32\n",
    "blockSize = the size of neighborhood considered for corner detection\n",
    "ksize = aperture parameter of sobel derivative used\n",
    "k = harris detector free parameter in the equation\n",
    "outputs - array of corner locations"
   ]
  },
  {
   "cell_type": "code",
   "execution_count": 2,
   "id": "3b209aba-0893-4ea6-978a-04bf60bab50c",
   "metadata": {
    "tags": []
   },
   "outputs": [],
   "source": [
    "image = cv2.imread('Images/chess.jpg')\n",
    "gray = cv2.cvtColor(image, cv2.COLOR_BGR2GRAY)\n",
    "\n",
    "# We specific the top 50 corners.\n",
    "corners = cv2.goodFeaturesToTrack(gray, 50, 0.01, 15)\n",
    "\n",
    "for corner in corners:\n",
    "    x, y = corner[0]\n",
    "    x = int(x)\n",
    "    y = int(y)\n",
    "    cv2.rectangle(image,(x-10,y-10), (x+10,y+10), (0,255,0), 2)\n",
    "\n",
    "cv2.imshow(\"Corners Found\", image)\n",
    "cv2.waitKey()\n",
    "cv2.destroyAllWindows()"
   ]
  },
  {
   "cell_type": "raw",
   "id": "83c1e885-2b99-43b3-854a-e9bcc9d8f336",
   "metadata": {},
   "source": [
    "cv2.goodFeaturesToTrack(input image, maxCorners, qualityLevel, minDistance)\n",
    "\n",
    "input image = 8-bit or floating-point 32-bit, single-channel image\n",
    "maxCorners - Maximum number of corners to return. If ther eare more corners than are found, the strongest of them are returned.\n",
    "qualityLevel - Parameter characteriziing the minimal accepted quality of image corners. The parameter value is multiplied by the best corner quality measure (smallest eigenvalue). The corners with the qulity measure less than the product are rejected. For example, if the best corner has the quality measure = 1500, and the qualityLevel = 0.01, then all the corners with the quality -- measure less than 15 are rejected.\n",
    "minDistance - Minimum possible Euclidean distance between the returned corners."
   ]
  }
 ],
 "metadata": {
  "kernelspec": {
   "display_name": "Python 3 (ipykernel)",
   "language": "python",
   "name": "python3"
  },
  "language_info": {
   "codemirror_mode": {
    "name": "ipython",
    "version": 3
   },
   "file_extension": ".py",
   "mimetype": "text/x-python",
   "name": "python",
   "nbconvert_exporter": "python",
   "pygments_lexer": "ipython3",
   "version": "3.10.8"
  }
 },
 "nbformat": 4,
 "nbformat_minor": 5
}
