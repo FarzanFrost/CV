{
 "cells": [
  {
   "cell_type": "code",
   "execution_count": 1,
   "id": "36c69c4f-c288-4ea6-acc7-99fb2832a8b9",
   "metadata": {},
   "outputs": [],
   "source": [
    "import cv2\n",
    "import numpy as np"
   ]
  },
  {
   "cell_type": "code",
   "execution_count": 3,
   "id": "0fc06de1-d2c8-4f54-806c-1b984ffccd8d",
   "metadata": {
    "tags": []
   },
   "outputs": [],
   "source": [
    "# By specifying a path in imread we load an image.\n",
    "input = cv2.imread('./Images/input.jpg')\n",
    "\n",
    "# Display an image using imshow.\n",
    "# First parameter is the title of the image window.\n",
    "# Second paramenter is the output image.\n",
    "cv2.imshow('Hello World', input)\n",
    "\n",
    "# The waitKey allows us to inut information when a image window is open.\n",
    "# By leaving it blank it just waits for anykey to be pressed before continuing.\n",
    "# By placing numbers ( except 0 ), we can specify a delay for\n",
    "# how long you keep teh window open ( time in ms ).\n",
    "cv2.waitKey()\n",
    "\n",
    "# This closese all open windows.\n",
    "# Failure to place this will cause your program to hang.\n",
    "cv2.destroyAllWindows()"
   ]
  },
  {
   "cell_type": "markdown",
   "id": "2e238b53-2444-48d4-931c-f148bb6b08f5",
   "metadata": {},
   "source": [
    "How Images are stored"
   ]
  },
  {
   "cell_type": "code",
   "execution_count": 7,
   "id": "fa1e2a1d-8cf0-48c2-a661-15a716186d07",
   "metadata": {
    "tags": []
   },
   "outputs": [
    {
     "name": "stdout",
     "output_type": "stream",
     "text": [
      "(415, 622, 3)\n",
      "Height of Image: 415 pixels\n",
      "Width of Image: 622 pixels\n"
     ]
    }
   ],
   "source": [
    "print(input.shape)\n",
    "print('Height of Image:', int(input.shape[0]), 'pixels')\n",
    "print('Width of Image:', int(input.shape[1]), 'pixels')"
   ]
  },
  {
   "cell_type": "markdown",
   "id": "1a9f7623-6009-40d5-8c30-2331ffa09eed",
   "metadata": {},
   "source": [
    "Saving Images\n"
   ]
  },
  {
   "cell_type": "code",
   "execution_count": 10,
   "id": "7056f65c-ec0f-4a91-97b4-3458e5392c3a",
   "metadata": {
    "tags": []
   },
   "outputs": [
    {
     "data": {
      "text/plain": [
       "True"
      ]
     },
     "execution_count": 10,
     "metadata": {},
     "output_type": "execute_result"
    }
   ],
   "source": [
    "# Save images using imwrite by specifying an output image name with type\n",
    "cv2.imwrite('OutputImages/output.jpg', input)"
   ]
  },
  {
   "cell_type": "code",
   "execution_count": 11,
   "id": "aa82fd20-2702-4b51-b4e4-145fd3b22356",
   "metadata": {
    "tags": []
   },
   "outputs": [
    {
     "data": {
      "text/plain": [
       "True"
      ]
     },
     "execution_count": 11,
     "metadata": {},
     "output_type": "execute_result"
    }
   ],
   "source": [
    "cv2.imwrite('OutputImages/output.png', input)"
   ]
  }
 ],
 "metadata": {
  "kernelspec": {
   "display_name": "Python 3 (ipykernel)",
   "language": "python",
   "name": "python3"
  },
  "language_info": {
   "codemirror_mode": {
    "name": "ipython",
    "version": 3
   },
   "file_extension": ".py",
   "mimetype": "text/x-python",
   "name": "python",
   "nbconvert_exporter": "python",
   "pygments_lexer": "ipython3",
   "version": "3.10.8"
  }
 },
 "nbformat": 4,
 "nbformat_minor": 5
}
